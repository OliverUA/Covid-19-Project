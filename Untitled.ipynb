{
 "cells": [
  {
   "cell_type": "code",
   "execution_count": 1,
   "id": "2df65fe7-7482-4710-87f5-3f1c6b6d29b5",
   "metadata": {},
   "outputs": [],
   "source": [
    "import pandas as pd\n",
    "import numpy as np\n",
    "\n",
    "\n",
    "covid = pd.read_csv(\"/Users/oliver/Documents/Data Analyst Project/COVID/casos_covid19.csv\", low_memory=False)\n",
    "pob = pd.read_csv(\"/Users/oliver/Documents/Data Analyst Project/Projecto de estadistica criminal/caba_pob_barrios_2010.csv\")"
   ]
  },
  {
   "cell_type": "code",
   "execution_count": 2,
   "id": "2ec0a2fa-5501-4a34-ba3b-0fe1971900e2",
   "metadata": {},
   "outputs": [],
   "source": [
    "# Procesar y limpiar las columnas con fechas.\n",
    "\n",
    "covid['fecha_fallecimiento'] = covid['fecha_fallecimiento'].str[:9]\n",
    "\n",
    "covid[\"fecha_fallecimiento\"] = pd.to_datetime(covid['fecha_fallecimiento'], format='%d%b%Y')\n",
    "\n",
    "covid['fecha_alta'] = covid['fecha_alta'].str[:9]\n",
    "\n",
    "covid[\"fecha_alta\"] = pd.to_datetime(covid['fecha_alta'], format='%d%b%Y')\n",
    "\n",
    "covid['fecha_apertura_snvs'] = covid['fecha_apertura_snvs'].str[:9]\n",
    "\n",
    "covid[\"fecha_apertura_snvs\"] = pd.to_datetime(covid['fecha_apertura_snvs'], format='%d%b%Y')\n",
    "\n",
    "covid['fecha_toma_muestra'] = covid['fecha_toma_muestra'].str[:9]\n",
    "\n",
    "covid['fecha_toma_muestra'] = pd.to_datetime(covid['fecha_toma_muestra'], format='%d%b%Y')\n",
    "\n",
    "covid['fecha_clasificacion'] = covid['fecha_clasificacion'].str[:9]\n",
    "\n",
    "covid['fecha_clasificacion'] = pd.to_datetime(covid['fecha_clasificacion'], format='%d%b%Y')\n",
    "\n",
    "# Eliminar demas filas conservando solo los casos de covid de la Ciudad de Buenos Aires\n",
    "\n",
    "covid = covid.drop(covid[covid.provincia != 'CABA'].index)\n",
    "\n",
    "#Limpiar y unir la tabla de poblacion a la table de covid principal\n",
    "\n",
    "pob = pob.rename(columns={'BARRIO':'barrio', 'POBLACION':'Poblacion'})\n",
    "\n",
    "covid = pd.merge(covid, pob, how = 'left', on = 'barrio')\n",
    "\n",
    "# Eliminar columnas innecesarias\n",
    "\n",
    "covid = covid.drop(columns='provincia')\n",
    "\n",
    "# Limpiar fechas erroneas por valores NaN y corregir aquellas que tuvieron algun error de tipeo\n",
    "\n",
    "covid['fecha_toma_muestra'].replace(['1899-12-30', '2002-01-20', '2002-02-04'],\n",
    "                   ['', '2022-01-20', '2022-02-04'], inplace=True)\n",
    "\n",
    "\n",
    "covid['fecha_clasificacion'].replace(['1899-12-30', '1970-01-19', '2002-01-20', '2002-02-04'],\n",
    "                   ['', '', '2022-01-20', '2022-02-04'], inplace=True)\n",
    "\n",
    "\n",
    "# Para comprobar las correcciones: \n",
    "\n",
    "# comprobacion1 = covid.loc[covid.fecha_toma_muestra == '2002-01-20']\n",
    "# comprobacion2 = covid.loc[covid.fecha_toma_muestra == '2002-02-04']\n",
    "\n",
    "# comprobacion3 = covid.loc[covid.fecha_clasificacion == '2002-01-20']\n",
    "# comprobacion4 = covid.loc[covid.fecha_fecha_clasificacion == '2002-02-04']\n"
   ]
  },
  {
   "cell_type": "code",
   "execution_count": 4,
   "id": "8d6f18ed-bbcc-42e4-8048-e070112e74c6",
   "metadata": {},
   "outputs": [],
   "source": [
    "covid.to_csv(\"/Users/oliver/Documents/Data Analyst Project/COVID/casos_covid19Final.csv\", index = False)"
   ]
  },
  {
   "cell_type": "code",
   "execution_count": null,
   "id": "97f4e013-d30a-4fae-b376-57537b1739c7",
   "metadata": {},
   "outputs": [],
   "source": []
  }
 ],
 "metadata": {
  "kernelspec": {
   "display_name": "Python 3 (ipykernel)",
   "language": "python",
   "name": "python3"
  },
  "language_info": {
   "codemirror_mode": {
    "name": "ipython",
    "version": 3
   },
   "file_extension": ".py",
   "mimetype": "text/x-python",
   "name": "python",
   "nbconvert_exporter": "python",
   "pygments_lexer": "ipython3",
   "version": "3.9.10"
  }
 },
 "nbformat": 4,
 "nbformat_minor": 5
}
